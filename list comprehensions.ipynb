{
 "metadata": {
  "name": ""
 },
 "nbformat": 3,
 "nbformat_minor": 0,
 "worksheets": [
  {
   "cells": [
    {
     "cell_type": "code",
     "collapsed": false,
     "input": [
      "# Q: What exactly is a list comprehension?"
     ],
     "language": "python",
     "metadata": {},
     "outputs": [],
     "prompt_number": 1
    },
    {
     "cell_type": "code",
     "collapsed": false,
     "input": [
      "# A: It's a quick way to make a list by itterating over another sequence.\n",
      "#    List comprehensions have the form:               [ EXPR for TARGET in ITTERABLE ...]\n",
      "\n",
      "# All list comprehensions can be re-writen as a standard for loop"
     ],
     "language": "python",
     "metadata": {},
     "outputs": [],
     "prompt_number": 36
    },
    {
     "cell_type": "code",
     "collapsed": false,
     "input": [
      "#list comprehension\n",
      "print([(x,y,z) for x in range(1,30) for y in range(x,30) for z in range(y,30) if x**2 + y**2 == z**2])"
     ],
     "language": "python",
     "metadata": {},
     "outputs": [
      {
       "output_type": "stream",
       "stream": "stdout",
       "text": [
        "[(3, 4, 5), (5, 12, 13), (6, 8, 10), (7, 24, 25), (8, 15, 17), (9, 12, 15), (10, 24, 26), (12, 16, 20), (15, 20, 25), (20, 21, 29)]\n"
       ]
      }
     ],
     "prompt_number": 26
    },
    {
     "cell_type": "code",
     "collapsed": false,
     "input": [
      "#and its equivalent, as a standard for loop\n",
      "l = []\n",
      "for x in range(1,30):\n",
      "\tfor y in range(x,30):\n",
      "\t\tfor z in range(y,30):\n",
      "\t\t\tif x**2 + y**2 == z**2:\n",
      "\t\t\t\tl.append((x,y,z))\n",
      "\n",
      "print(l)"
     ],
     "language": "python",
     "metadata": {},
     "outputs": [
      {
       "output_type": "stream",
       "stream": "stdout",
       "text": [
        "[(3, 4, 5), (5, 12, 13), (6, 8, 10), (7, 24, 25), (8, 15, 17), (9, 12, 15), (10, 24, 26), (12, 16, 20), (15, 20, 25), (20, 21, 29)]\n"
       ]
      }
     ],
     "prompt_number": 31
    },
    {
     "cell_type": "code",
     "collapsed": false,
     "input": [
      "#another list comprehension\n",
      "l = ['{:#04}'.format(x) for x in range(256) if x%2==0]\n",
      "print(l)"
     ],
     "language": "python",
     "metadata": {},
     "outputs": [
      {
       "output_type": "stream",
       "stream": "stdout",
       "text": [
        "['0000', '0002', '0004', '0006', '0008', '0010', '0012', '0014', '0016', '0018', '0020', '0022', '0024', '0026', '0028', '0030', '0032', '0034', '0036', '0038', '0040', '0042', '0044', '0046', '0048', '0050', '0052', '0054', '0056', '0058', '0060', '0062', '0064', '0066', '0068', '0070', '0072', '0074', '0076', '0078', '0080', '0082', '0084', '0086', '0088', '0090', '0092', '0094', '0096', '0098', '0100', '0102', '0104', '0106', '0108', '0110', '0112', '0114', '0116', '0118', '0120', '0122', '0124', '0126', '0128', '0130', '0132', '0134', '0136', '0138', '0140', '0142', '0144', '0146', '0148', '0150', '0152', '0154', '0156', '0158', '0160', '0162', '0164', '0166', '0168', '0170', '0172', '0174', '0176', '0178', '0180', '0182', '0184', '0186', '0188', '0190', '0192', '0194', '0196', '0198', '0200', '0202', '0204', '0206', '0208', '0210', '0212', '0214', '0216', '0218', '0220', '0222', '0224', '0226', '0228', '0230', '0232', '0234', '0236', '0238', '0240', '0242', '0244', '0246', '0248', '0250', '0252', '0254']\n"
       ]
      }
     ],
     "prompt_number": 32
    },
    {
     "cell_type": "code",
     "collapsed": false,
     "input": [
      "#and its equivalent for, as a standard for loop\n",
      "l = []\n",
      "for x in range(256):\n",
      "\tif x%2==0:\n",
      "\t\tl.append('{:#04}'.format(x))\n",
      "\n",
      "print(l)"
     ],
     "language": "python",
     "metadata": {},
     "outputs": [
      {
       "output_type": "stream",
       "stream": "stdout",
       "text": [
        "['0000', '0002', '0004', '0006', '0008', '0010', '0012', '0014', '0016', '0018', '0020', '0022', '0024', '0026', '0028', '0030', '0032', '0034', '0036', '0038', '0040', '0042', '0044', '0046', '0048', '0050', '0052', '0054', '0056', '0058', '0060', '0062', '0064', '0066', '0068', '0070', '0072', '0074', '0076', '0078', '0080', '0082', '0084', '0086', '0088', '0090', '0092', '0094', '0096', '0098', '0100', '0102', '0104', '0106', '0108', '0110', '0112', '0114', '0116', '0118', '0120', '0122', '0124', '0126', '0128', '0130', '0132', '0134', '0136', '0138', '0140', '0142', '0144', '0146', '0148', '0150', '0152', '0154', '0156', '0158', '0160', '0162', '0164', '0166', '0168', '0170', '0172', '0174', '0176', '0178', '0180', '0182', '0184', '0186', '0188', '0190', '0192', '0194', '0196', '0198', '0200', '0202', '0204', '0206', '0208', '0210', '0212', '0214', '0216', '0218', '0220', '0222', '0224', '0226', '0228', '0230', '0232', '0234', '0236', '0238', '0240', '0242', '0244', '0246', '0248', '0250', '0252', '0254']\n"
       ]
      }
     ],
     "prompt_number": 34
    },
    {
     "cell_type": "code",
     "collapsed": false,
     "input": [
      "#Generator Comprehension\n",
      "\n",
      "#Generator comprehensions were introduced with Python 2.6.\n",
      "#They are simply a generator expression with a parenthesis - round brackets - around it. \n",
      "#Otherwise, the syntax and the way of working is like list comprehension,\n",
      "#but a generator comprehension returns a generator instead of a list.\n",
      "x = (x **2 for x in range(20))\n",
      "print(x)\n",
      "\n",
      "x = list(x)\n",
      "print(x)"
     ],
     "language": "python",
     "metadata": {},
     "outputs": [
      {
       "output_type": "stream",
       "stream": "stdout",
       "text": [
        "<generator object <genexpr> at 0x7fc2d4f34438>\n",
        "[0, 1, 4, 9, 16, 25, 36, 49, 64, 81, 100, 121, 144, 169, 196, 225, 256, 289, 324, 361]\n"
       ]
      }
     ],
     "prompt_number": 69
    },
    {
     "cell_type": "code",
     "collapsed": false,
     "input": [
      "def counter():\n",
      "    yield range(20)\n",
      "    \n",
      "    \n",
      "x = counter()\n",
      "x.__next__()\n"
     ],
     "language": "python",
     "metadata": {},
     "outputs": [
      {
       "metadata": {},
       "output_type": "pyout",
       "prompt_number": 76,
       "text": [
        "range(0, 20)"
       ]
      }
     ],
     "prompt_number": 76
    },
    {
     "cell_type": "code",
     "collapsed": false,
     "input": [],
     "language": "python",
     "metadata": {},
     "outputs": []
    }
   ],
   "metadata": {}
  }
 ]
}